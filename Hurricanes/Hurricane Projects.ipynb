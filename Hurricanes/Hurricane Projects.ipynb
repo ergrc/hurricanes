{
 "cells": [
  {
   "cell_type": "markdown",
   "metadata": {},
   "source": [
    "# Hurricane Project"
   ]
  },
  {
   "cell_type": "markdown",
   "metadata": {},
   "source": [
    "**Import Data**"
   ]
  },
  {
   "cell_type": "code",
   "execution_count": 1,
   "metadata": {},
   "outputs": [],
   "source": [
    "import collections\n",
    "from collections import defaultdict\n",
    "import pandas as pd\n",
    "\n",
    "# names of hurricanes\n",
    "names = ['Cuba I', 'San Felipe II Okeechobee', 'Bahamas', 'Cuba II', 'CubaBrownsville', 'Tampico', 'Labor Day', 'New England', 'Carol', 'Janet', 'Carla', 'Hattie', 'Beulah', 'Camille', 'Edith', 'Anita', 'David', 'Allen', 'Gilbert', 'Hugo', 'Andrew', 'Mitch', 'Isabel', 'Ivan', 'Emily', 'Katrina', 'Rita', 'Wilma', 'Dean', 'Felix', 'Matthew', 'Irma', 'Maria', 'Michael']\n",
    "\n",
    "# months of hurricanes\n",
    "months = ['October', 'September', 'September', 'November', 'August', 'September', 'September', 'September', 'September', 'September', 'September', 'October', 'September', 'August', 'September', 'September', 'August', 'August', 'September', 'September', 'August', 'October', 'September', 'September', 'July', 'August', 'September', 'October', 'August', 'September', 'October', 'September', 'September', 'October']\n",
    "\n",
    "# years of hurricanes\n",
    "years = [1924, 1928, 1932, 1932, 1933, 1933, 1935, 1938, 1953, 1955, 1961, 1961, 1967, 1969, 1971, 1977, 1979, 1980, 1988, 1989, 1992, 1998, 2003, 2004, 2005, 2005, 2005, 2005, 2007, 2007, 2016, 2017, 2017, 2018]\n",
    "\n",
    "# maximum sustained winds (mph) of hurricanes\n",
    "max_sustained_winds = [165, 160, 160, 175, 160, 160, 185, 160, 160, 175, 175, 160, 160, 175, 160, 175, 175, 190, 185, 160, 175, 180, 165, 165, 160, 175, 180, 185, 175, 175, 165, 180, 175, 160]\n",
    "\n",
    "# areas affected by each hurricane\n",
    "areas_affected = [['Central America', 'Mexico', 'Cuba', 'Florida', 'The Bahamas'], ['Lesser Antilles', 'The Bahamas', 'United States East Coast', 'Atlantic Canada'], ['The Bahamas', 'Northeastern United States'], ['Lesser Antilles', 'Jamaica', 'Cayman Islands', 'Cuba', 'The Bahamas', 'Bermuda'], ['The Bahamas', 'Cuba', 'Florida', 'Texas', 'Tamaulipas'], ['Jamaica', 'Yucatn Peninsula'], ['The Bahamas', 'Florida', 'Georgia', 'The Carolinas', 'Virginia'], ['Southeastern United States', 'Northeastern United States', 'Southwestern Quebec'], ['Bermuda', 'New England', 'Atlantic Canada'], ['Lesser Antilles', 'Central America'], ['Texas', 'Louisiana', 'Midwestern United States'], ['Central America'], ['The Caribbean', 'Mexico', 'Texas'], ['Cuba', 'United States Gulf Coast'], ['The Caribbean', 'Central America', 'Mexico', 'United States Gulf Coast'], ['Mexico'], ['The Caribbean', 'United States East coast'], ['The Caribbean', 'Yucatn Peninsula', 'Mexico', 'South Texas'], ['Jamaica', 'Venezuela', 'Central America', 'Hispaniola', 'Mexico'], ['The Caribbean', 'United States East Coast'], ['The Bahamas', 'Florida', 'United States Gulf Coast'], ['Central America', 'Yucatn Peninsula', 'South Florida'], ['Greater Antilles', 'Bahamas', 'Eastern United States', 'Ontario'], ['The Caribbean', 'Venezuela', 'United States Gulf Coast'], ['Windward Islands', 'Jamaica', 'Mexico', 'Texas'], ['Bahamas', 'United States Gulf Coast'], ['Cuba', 'United States Gulf Coast'], ['Greater Antilles', 'Central America', 'Florida'], ['The Caribbean', 'Central America'], ['Nicaragua', 'Honduras'], ['Antilles', 'Venezuela', 'Colombia', 'United States East Coast', 'Atlantic Canada'], ['Cape Verde', 'The Caribbean', 'British Virgin Islands', 'U.S. Virgin Islands', 'Cuba', 'Florida'], ['Lesser Antilles', 'Virgin Islands', 'Puerto Rico', 'Dominican Republic', 'Turks and Caicos Islands'], ['Central America', 'United States Gulf Coast (especially Florida Panhandle)']]\n",
    "\n",
    "# damages (USD($)) of hurricanes\n",
    "damages = ['Damages not recorded', '100M', 'Damages not recorded', '40M', '27.9M', '5M', 'Damages not recorded', '306M', '2M', '65.8M', '326M', '60.3M', '208M', '1.42B', '25.4M', 'Damages not recorded', '1.54B', '1.24B', '7.1B', '10B', '26.5B', '6.2B', '5.37B', '23.3B', '1.01B', '125B', '12B', '29.4B', '1.76B', '720M', '15.1B', '64.8B', '91.6B', '25.1B']\n",
    "\n",
    "# deaths for each hurricane\n",
    "deaths = [90,4000,16,3103,179,184,408,682,5,1023,43,319,688,259,37,11,2068,269,318,107,65,19325,51,124,17,1836,125,87,45,133,603,138,3057,74]\n"
   ]
  },
  {
   "cell_type": "code",
   "execution_count": 2,
   "metadata": {},
   "outputs": [
    {
     "name": "stdout",
     "output_type": "stream",
     "text": [
      "['Damages not recorded', 100000000.0, 'Damages not recorded', 40000000.0, 27900000.0, 5000000.0, 'Damages not recorded', 306000000.0, 2000000.0, 65800000.0, 326000000.0, 60300000.0, 208000000.0, 1420000000.0, 25400000.0, 'Damages not recorded', 1540000000.0, 1240000000.0, 7100000000.0, 10000000000.0, 26500000000.0, 6200000000.0, 5370000000.0, 23300000000.0, 1010000000.0, 125000000000.0, 12000000000.0, 29400000000.0, 1760000000.0, 720000000.0, 15100000000.0, 64800000000.0, 91600000000.0, 25100000000.0]\n"
     ]
    }
   ],
   "source": [
    "#Write a function that returns a new list of updated damages where the recorded data is converted \n",
    "#to float values and the missing data is retained as \"Damages not recorded\".\n",
    "#Test your function with the data stored in damages.\n",
    "\n",
    "damage_millions = []\n",
    "\n",
    "def damage_float(recorded):\n",
    "    for x in recorded:\n",
    "        if \"M\" in x:\n",
    "            new_m = x.strip(\"M\")\n",
    "            new_m_float = float(new_m)\n",
    "            damage_millions.append(new_m_float*1000000)\n",
    "        elif \"B\" in x:\n",
    "            new_b = x.strip(\"B\")\n",
    "            new_b_float = float(new_b)\n",
    "            damage_millions.append(new_b_float*1000000000)\n",
    "        else:\n",
    "            damage_millions.append(x)\n",
    "damage_float(damages)\n",
    "print(damage_millions)"
   ]
  },
  {
   "cell_type": "code",
   "execution_count": 3,
   "metadata": {},
   "outputs": [],
   "source": [
    "#combine datasets into single dictionary that stores by hurricane name as the key and data as values\n",
    "\n",
    "def create_name_dict(hurricane_names):\n",
    "    i=0\n",
    "    hurricane_dict_build = {}\n",
    "    for name in hurricane_names:\n",
    "        hurricane_dict_build[name] = {\"Name\":names[i],\"Month\":months[i],\"Year\":years[i],\"Max Sustained Wind\":max_sustained_winds[i],\"Areas Affected\":areas_affected[i],\"Damage\":damage_millions[i],\"Death\":deaths[i]}\n",
    "        i += 1\n",
    "    return(hurricane_dict_build)\n",
    "\n",
    "hurricanes = create_name_dict(names)\n",
    "# Test Print\n",
    "#print(hurricane_dict[\"Cuba I\"])\n"
   ]
  },
  {
   "cell_type": "code",
   "execution_count": 4,
   "metadata": {},
   "outputs": [
    {
     "name": "stdout",
     "output_type": "stream",
     "text": [
      "{1924: [{'Name': 'Cuba I', 'Month': 'October', 'Year': 1924, 'Max Sustained Wind': 165, 'Areas Affected': ['Central America', 'Mexico', 'Cuba', 'Florida', 'The Bahamas'], 'Damage': 'Damages not recorded', 'Death': 90}], 1928: [{'Name': 'San Felipe II Okeechobee', 'Month': 'September', 'Year': 1928, 'Max Sustained Wind': 160, 'Areas Affected': ['Lesser Antilles', 'The Bahamas', 'United States East Coast', 'Atlantic Canada'], 'Damage': 100000000.0, 'Death': 4000}], 1932: [{'Name': 'Cuba II', 'Month': 'November', 'Year': 1932, 'Max Sustained Wind': 175, 'Areas Affected': ['Lesser Antilles', 'Jamaica', 'Cayman Islands', 'Cuba', 'The Bahamas', 'Bermuda'], 'Damage': 40000000.0, 'Death': 3103}, [{'Name': 'Bahamas', 'Month': 'September', 'Year': 1932, 'Max Sustained Wind': 160, 'Areas Affected': ['The Bahamas', 'Northeastern United States'], 'Damage': 'Damages not recorded', 'Death': 16}]], 1933: [{'Name': 'Tampico', 'Month': 'September', 'Year': 1933, 'Max Sustained Wind': 160, 'Areas Affected': ['Jamaica', 'Yucatn Peninsula'], 'Damage': 5000000.0, 'Death': 184}, [{'Name': 'CubaBrownsville', 'Month': 'August', 'Year': 1933, 'Max Sustained Wind': 160, 'Areas Affected': ['The Bahamas', 'Cuba', 'Florida', 'Texas', 'Tamaulipas'], 'Damage': 27900000.0, 'Death': 179}]], 1935: [{'Name': 'Labor Day', 'Month': 'September', 'Year': 1935, 'Max Sustained Wind': 185, 'Areas Affected': ['The Bahamas', 'Florida', 'Georgia', 'The Carolinas', 'Virginia'], 'Damage': 'Damages not recorded', 'Death': 408}], 1938: [{'Name': 'New England', 'Month': 'September', 'Year': 1938, 'Max Sustained Wind': 160, 'Areas Affected': ['Southeastern United States', 'Northeastern United States', 'Southwestern Quebec'], 'Damage': 306000000.0, 'Death': 682}], 1953: [{'Name': 'Carol', 'Month': 'September', 'Year': 1953, 'Max Sustained Wind': 160, 'Areas Affected': ['Bermuda', 'New England', 'Atlantic Canada'], 'Damage': 2000000.0, 'Death': 5}], 1955: [{'Name': 'Janet', 'Month': 'September', 'Year': 1955, 'Max Sustained Wind': 175, 'Areas Affected': ['Lesser Antilles', 'Central America'], 'Damage': 65800000.0, 'Death': 1023}], 1961: [{'Name': 'Hattie', 'Month': 'October', 'Year': 1961, 'Max Sustained Wind': 160, 'Areas Affected': ['Central America'], 'Damage': 60300000.0, 'Death': 319}, [{'Name': 'Carla', 'Month': 'September', 'Year': 1961, 'Max Sustained Wind': 175, 'Areas Affected': ['Texas', 'Louisiana', 'Midwestern United States'], 'Damage': 326000000.0, 'Death': 43}]], 1967: [{'Name': 'Beulah', 'Month': 'September', 'Year': 1967, 'Max Sustained Wind': 160, 'Areas Affected': ['The Caribbean', 'Mexico', 'Texas'], 'Damage': 208000000.0, 'Death': 688}], 1969: [{'Name': 'Camille', 'Month': 'August', 'Year': 1969, 'Max Sustained Wind': 175, 'Areas Affected': ['Cuba', 'United States Gulf Coast'], 'Damage': 1420000000.0, 'Death': 259}], 1971: [{'Name': 'Edith', 'Month': 'September', 'Year': 1971, 'Max Sustained Wind': 160, 'Areas Affected': ['The Caribbean', 'Central America', 'Mexico', 'United States Gulf Coast'], 'Damage': 25400000.0, 'Death': 37}], 1977: [{'Name': 'Anita', 'Month': 'September', 'Year': 1977, 'Max Sustained Wind': 175, 'Areas Affected': ['Mexico'], 'Damage': 'Damages not recorded', 'Death': 11}], 1979: [{'Name': 'David', 'Month': 'August', 'Year': 1979, 'Max Sustained Wind': 175, 'Areas Affected': ['The Caribbean', 'United States East coast'], 'Damage': 1540000000.0, 'Death': 2068}], 1980: [{'Name': 'Allen', 'Month': 'August', 'Year': 1980, 'Max Sustained Wind': 190, 'Areas Affected': ['The Caribbean', 'Yucatn Peninsula', 'Mexico', 'South Texas'], 'Damage': 1240000000.0, 'Death': 269}], 1988: [{'Name': 'Gilbert', 'Month': 'September', 'Year': 1988, 'Max Sustained Wind': 185, 'Areas Affected': ['Jamaica', 'Venezuela', 'Central America', 'Hispaniola', 'Mexico'], 'Damage': 7100000000.0, 'Death': 318}], 1989: [{'Name': 'Hugo', 'Month': 'September', 'Year': 1989, 'Max Sustained Wind': 160, 'Areas Affected': ['The Caribbean', 'United States East Coast'], 'Damage': 10000000000.0, 'Death': 107}], 1992: [{'Name': 'Andrew', 'Month': 'August', 'Year': 1992, 'Max Sustained Wind': 175, 'Areas Affected': ['The Bahamas', 'Florida', 'United States Gulf Coast'], 'Damage': 26500000000.0, 'Death': 65}], 1998: [{'Name': 'Mitch', 'Month': 'October', 'Year': 1998, 'Max Sustained Wind': 180, 'Areas Affected': ['Central America', 'Yucatn Peninsula', 'South Florida'], 'Damage': 6200000000.0, 'Death': 19325}], 2003: [{'Name': 'Isabel', 'Month': 'September', 'Year': 2003, 'Max Sustained Wind': 165, 'Areas Affected': ['Greater Antilles', 'Bahamas', 'Eastern United States', 'Ontario'], 'Damage': 5370000000.0, 'Death': 51}], 2004: [{'Name': 'Ivan', 'Month': 'September', 'Year': 2004, 'Max Sustained Wind': 165, 'Areas Affected': ['The Caribbean', 'Venezuela', 'United States Gulf Coast'], 'Damage': 23300000000.0, 'Death': 124}], 2005: [{'Name': 'Wilma', 'Month': 'October', 'Year': 2005, 'Max Sustained Wind': 185, 'Areas Affected': ['Greater Antilles', 'Central America', 'Florida'], 'Damage': 29400000000.0, 'Death': 87}, [{'Name': 'Rita', 'Month': 'September', 'Year': 2005, 'Max Sustained Wind': 180, 'Areas Affected': ['Cuba', 'United States Gulf Coast'], 'Damage': 12000000000.0, 'Death': 125}, [{'Name': 'Katrina', 'Month': 'August', 'Year': 2005, 'Max Sustained Wind': 175, 'Areas Affected': ['Bahamas', 'United States Gulf Coast'], 'Damage': 125000000000.0, 'Death': 1836}, [{'Name': 'Emily', 'Month': 'July', 'Year': 2005, 'Max Sustained Wind': 160, 'Areas Affected': ['Windward Islands', 'Jamaica', 'Mexico', 'Texas'], 'Damage': 1010000000.0, 'Death': 17}]]]], 2007: [{'Name': 'Felix', 'Month': 'September', 'Year': 2007, 'Max Sustained Wind': 175, 'Areas Affected': ['Nicaragua', 'Honduras'], 'Damage': 720000000.0, 'Death': 133}, [{'Name': 'Dean', 'Month': 'August', 'Year': 2007, 'Max Sustained Wind': 175, 'Areas Affected': ['The Caribbean', 'Central America'], 'Damage': 1760000000.0, 'Death': 45}]], 2016: [{'Name': 'Matthew', 'Month': 'October', 'Year': 2016, 'Max Sustained Wind': 165, 'Areas Affected': ['Antilles', 'Venezuela', 'Colombia', 'United States East Coast', 'Atlantic Canada'], 'Damage': 15100000000.0, 'Death': 603}], 2017: [{'Name': 'Maria', 'Month': 'September', 'Year': 2017, 'Max Sustained Wind': 175, 'Areas Affected': ['Lesser Antilles', 'Virgin Islands', 'Puerto Rico', 'Dominican Republic', 'Turks and Caicos Islands'], 'Damage': 91600000000.0, 'Death': 3057}, [{'Name': 'Irma', 'Month': 'September', 'Year': 2017, 'Max Sustained Wind': 180, 'Areas Affected': ['Cape Verde', 'The Caribbean', 'British Virgin Islands', 'U.S. Virgin Islands', 'Cuba', 'Florida'], 'Damage': 64800000000.0, 'Death': 138}]], 2018: [{'Name': 'Michael', 'Month': 'October', 'Year': 2018, 'Max Sustained Wind': 160, 'Areas Affected': ['Central America', 'United States Gulf Coast (especially Florida Panhandle)'], 'Damage': 25100000000.0, 'Death': 74}]}\n"
     ]
    }
   ],
   "source": [
    "#combine datasets into single dictionary that stores year as the key and hurricane(s) data as values\n",
    "       \n",
    "def create_year_dict(hurricane_dictionary):\n",
    "    h_year_dict = {}\n",
    "    for value in hurricane_dictionary.values():\n",
    "        current_year = value[\"Year\"]\n",
    "        current_canes = []\n",
    "        if current_year in h_year_dict:\n",
    "            temp_pop = h_year_dict.pop(current_year)\n",
    "            current_canes.append(value)\n",
    "            current_canes.append(temp_pop)\n",
    "            h_year_dict[current_year] = current_canes\n",
    "        if current_year not in h_year_dict:\n",
    "            current_canes.append(value)\n",
    "            h_year_dict[current_year] = current_canes\n",
    "    return h_year_dict    \n",
    "year_dictionary = create_year_dict(hurricanes)\n",
    "print(year_dictionary)"
   ]
  },
  {
   "cell_type": "code",
   "execution_count": 5,
   "metadata": {},
   "outputs": [],
   "source": [
    "# create a dictionary with the areas affected as the key and the count of how many times it has been affected from all hurricanes\n",
    "\n",
    "def areas_affected_dict(hurricane_dictionary):\n",
    "    location_dict = {}\n",
    "    for value in hurricane_dictionary.values():\n",
    "        affected_areas = value[\"Areas Affected\"]\n",
    "        for location in affected_areas:\n",
    "            if location in location_dict:\n",
    "                temp_pop = location_dict.pop(location)\n",
    "                location_dict[location] = temp_pop + 1\n",
    "            if location not in location_dict:\n",
    "                location_dict[location] = 1\n",
    "    return location_dict\n",
    "\n",
    "areas_affected_dictionary = areas_affected_dict(hurricanes)\n",
    "\n",
    "# test\n",
    "#print(areas_affected_dict(hurricanes))"
   ]
  },
  {
   "cell_type": "code",
   "execution_count": 6,
   "metadata": {},
   "outputs": [
    {
     "name": "stdout",
     "output_type": "stream",
     "text": [
      "The most affected area by Atlantic hurricanes in the last 100 years is Central America with 9 hurricanes.\n"
     ]
    }
   ],
   "source": [
    "# find the area affected by the most hurricanes\n",
    "import operator\n",
    "def sort_value_max(dictionary):\n",
    "    new_dict = {k: v for k, v in sorted(dictionary.items(), key=lambda item: item[1],reverse=True)}\n",
    "    most_affected = max(new_dict.items(), key=operator.itemgetter(1))[0]\n",
    "    print(\"The most affected area by Atlantic hurricanes in the last 100 years is {} with {} hurricanes.\".format(most_affected,new_dict.get(most_affected)))\n",
    "\n",
    "sort_value_max(areas_affected_dictionary)\n"
   ]
  },
  {
   "cell_type": "code",
   "execution_count": 7,
   "metadata": {},
   "outputs": [
    {
     "name": "stdout",
     "output_type": "stream",
     "text": [
      "The deadliest Atlantic hurricane is hurricane Mitch which left 19325 dead in 1998.\n"
     ]
    }
   ],
   "source": [
    "# Write a function that finds the hurricane that caused the greatest number of deaths, and how many deaths it caused.\n",
    "\n",
    "def most_deaths(hurricane_dictionary):\n",
    "    death_dict = {}\n",
    "    for key,value in hurricane_dictionary.items():\n",
    "        death_values = value[\"Death\"]\n",
    "        death_dict[key] = death_values\n",
    "    new_dict = {k: v for k, v in sorted(death_dict.items(), key=lambda item: item[1],reverse=True)}\n",
    "    most_dead = max(death_dict.items(), key=operator.itemgetter(1))[0]\n",
    "    print(\"The deadliest Atlantic hurricane is hurricane {} which left {} dead in {}.\".format(most_dead,death_dict.get(most_dead),hurricane_dictionary.get(most_dead).get(\"Year\")))\n",
    "\n",
    "most_deaths(hurricanes)"
   ]
  },
  {
   "cell_type": "code",
   "execution_count": 8,
   "metadata": {},
   "outputs": [],
   "source": [
    "# Assign hurricane names to a mortality scale\n",
    "mortality_scale = {0:0,1:100,2:500,3:1000,4:10000,5:50000}\n",
    "\n",
    "def mortality_assign(hurricane_dictionary):\n",
    "    mortality_dict = defaultdict(list)\n",
    "    for key, value in hurricane_dictionary.items():\n",
    "        death_values = value[\"Death\"]\n",
    "        temp_list = []\n",
    "        for k,v in mortality_scale.items():\n",
    "            if death_values < v:\n",
    "                temp_list.append(k)\n",
    "        rating = min(temp_list) \n",
    "        mortality_dict[rating].append(key)\n",
    "    return mortality_dict\n",
    "#print(mortality_assign(hurricanes))\n",
    "        "
   ]
  },
  {
   "cell_type": "code",
   "execution_count": 9,
   "metadata": {},
   "outputs": [
    {
     "name": "stdout",
     "output_type": "stream",
     "text": [
      "The most costly Atlantic hurricane is hurricane Katrina which left $125000000000 in damages in the year 2005.\n"
     ]
    }
   ],
   "source": [
    "# Write a function that finds the hurricane that caused the greatest damage, and how costly it was.\n",
    "def most_cost(hurricane_dictionary):\n",
    "    cost_dict = {}\n",
    "    for key,value in hurricane_dictionary.items():\n",
    "        cost_values = value[\"Damage\"]\n",
    "        if cost_values == \"Damages not recorded\":\n",
    "            continue\n",
    "        cost_dict[key] = cost_values\n",
    "    new_dict = {k: v for k, v in sorted(cost_dict.items(), key=lambda item: item[1],reverse=True)}\n",
    "    most_costly = max(cost_dict.items(), key=operator.itemgetter(1))[0]\n",
    "    print(\"The most costly Atlantic hurricane is hurricane {} which left ${} in damages in the year {}.\".format(most_costly,int(cost_dict.get(most_costly)),hurricane_dictionary.get(most_costly).get(\"Year\")))\n",
    "\n",
    "most_cost(hurricanes)"
   ]
  },
  {
   "cell_type": "code",
   "execution_count": 15,
   "metadata": {},
   "outputs": [
    {
     "name": "stdout",
     "output_type": "stream",
     "text": [
      "Three hurricanes have cost over $50 billion dollars in damages. Katrina, Irma, and Maria.\n"
     ]
    }
   ],
   "source": [
    "# Assign hurricane names to a damage scale\n",
    "damage_scale = {0: 0, 1: 100000000, 2: 1000000000, 3: 10000000000, 4: 50000000000, 5:500000000000}\n",
    "\n",
    "def damage_assign(hurricane_dictionary):\n",
    "    damage_dict = defaultdict(list)\n",
    "    for key, value in hurricane_dictionary.items():\n",
    "        cost_values = value[\"Damage\"]\n",
    "        if cost_values == \"Damages not recorded\":\n",
    "            continue\n",
    "        temp_list = []\n",
    "        for k,v in damage_scale.items():\n",
    "            if cost_values < v:\n",
    "                temp_list.append(k)\n",
    "        rating = min(temp_list) \n",
    "        damage_dict[rating].append(key)\n",
    "    return damage_dict\n",
    "damage_category = damage_assign(hurricanes)\n",
    "#print(damage_assign(hurricanes))\n",
    "\n",
    "print(\"Three hurricanes have cost over $50 billion dollars in damages. {}, {}, and {}.\".format(damage_category[5][0],damage_category[5][1],damage_category[5][2]))"
   ]
  },
  {
   "cell_type": "code",
   "execution_count": null,
   "metadata": {},
   "outputs": [],
   "source": []
  },
  {
   "cell_type": "code",
   "execution_count": null,
   "metadata": {},
   "outputs": [],
   "source": []
  }
 ],
 "metadata": {
  "kernelspec": {
   "display_name": "Python 3",
   "language": "python",
   "name": "python3"
  },
  "language_info": {
   "codemirror_mode": {
    "name": "ipython",
    "version": 3
   },
   "file_extension": ".py",
   "mimetype": "text/x-python",
   "name": "python",
   "nbconvert_exporter": "python",
   "pygments_lexer": "ipython3",
   "version": "3.8.5"
  }
 },
 "nbformat": 4,
 "nbformat_minor": 2
}
